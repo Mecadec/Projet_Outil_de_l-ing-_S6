{
 "cells": [
  {
   "cell_type": "markdown",
   "id": "61bbd2aa",
   "metadata": {},
   "source": [
    "Import\n"
   ]
  },
  {
   "cell_type": "code",
   "execution_count": 2,
   "id": "94dff4d3",
   "metadata": {},
   "outputs": [],
   "source": [
    "import pandas as pd\n",
    "from sklearn.preprocessing import OrdinalEncoder\n",
    "from sklearn.linear_model import LinearRegression\n",
    "from sklearn.tree import DecisionTreeRegressor\n",
    "from sklearn.metrics import mean_squared_error\n",
    "import numpy as np"
   ]
  },
  {
   "cell_type": "markdown",
   "id": "4873d106",
   "metadata": {},
   "source": [
    "création de la dataframe"
   ]
  },
  {
   "cell_type": "code",
   "execution_count": 3,
   "id": "420875e8",
   "metadata": {},
   "outputs": [],
   "source": [
    "df = pd.read_csv(r\"After_Sort.csv\", parse_dates=[\"BaseDateTime\"])\n",
    "df.sort_values(\"BaseDateTime\", inplace=True)"
   ]
  },
  {
   "cell_type": "markdown",
   "id": "38b1045d",
   "metadata": {},
   "source": [
    "print informations"
   ]
  },
  {
   "cell_type": "code",
   "execution_count": 4,
   "id": "5ab3ce7f",
   "metadata": {},
   "outputs": [
    {
     "name": "stdout",
     "output_type": "stream",
     "text": [
      "             id       MMSI BaseDateTime       LAT       LON   SOG    COG  \\\n",
      "117352  9030257  563020500   2023-05-25  28.82655 -89.43528  14.2  207.9   \n",
      "117395  9032593  366954420   2023-05-25  27.77639 -82.63030   0.1  294.9   \n",
      "117339  9029199  215583000   2023-05-25  26.48967 -79.39617  10.2  182.7   \n",
      "117360  9030460  367181550   2023-05-25  29.85450 -89.98148   0.0  298.2   \n",
      "117442  9036191  368045410   2023-05-25  27.84124 -97.06945   5.9   15.5   \n",
      "\n",
      "        Heading        VesselName            IMO CallSign  VesselType  Status  \\\n",
      "117352    206.0       MERCURY SKY     IMO9796949   9V5148          70       0   \n",
      "117395    294.0  PROVINCETOWN III     IMO9329394  WDB8185          60       0   \n",
      "117339    184.0         COBIA LNG     IMO9869306  9HA5192          84       0   \n",
      "117360      NaN   BELLE CHASSE II            NaN  WDD7069          60       0   \n",
      "117442      NaN    JOSEPH F WEBER  IMO1012865430  WDK3453          60       0   \n",
      "\n",
      "        Length  Width  Draft  Cargo TransceiverClass  \n",
      "117352     NaN    NaN    NaN   70.0                A  \n",
      "117395    30.0    9.0    1.9   60.0                A  \n",
      "117339   299.0   46.0    9.4   84.0                A  \n",
      "117360    41.0   16.0    NaN   60.0                A  \n",
      "117442    46.0   16.0    3.3   60.0                A  \n",
      "<class 'pandas.core.frame.DataFrame'>\n",
      "Index: 411723 entries, 117352 to 402776\n",
      "Data columns (total 18 columns):\n",
      " #   Column            Non-Null Count   Dtype         \n",
      "---  ------            --------------   -----         \n",
      " 0   id                411723 non-null  int64         \n",
      " 1   MMSI              411723 non-null  int64         \n",
      " 2   BaseDateTime      411723 non-null  datetime64[ns]\n",
      " 3   LAT               411723 non-null  float64       \n",
      " 4   LON               411723 non-null  float64       \n",
      " 5   SOG               411723 non-null  float64       \n",
      " 6   COG               371787 non-null  float64       \n",
      " 7   Heading           267527 non-null  float64       \n",
      " 8   VesselName        411723 non-null  object        \n",
      " 9   IMO               297387 non-null  object        \n",
      " 10  CallSign          409921 non-null  object        \n",
      " 11  VesselType        411723 non-null  int64         \n",
      " 12  Status            411723 non-null  int64         \n",
      " 13  Length            393426 non-null  float64       \n",
      " 14  Width             367428 non-null  float64       \n",
      " 15  Draft             268706 non-null  float64       \n",
      " 16  Cargo             409615 non-null  float64       \n",
      " 17  TransceiverClass  411723 non-null  object        \n",
      "dtypes: datetime64[ns](1), float64(9), int64(4), object(4)\n",
      "memory usage: 59.7+ MB\n",
      "None\n",
      "                 id          MMSI                   BaseDateTime  \\\n",
      "count  4.117230e+05  4.117230e+05                         411723   \n",
      "mean   1.676658e+07  4.051087e+08  2023-05-28 11:51:24.290372096   \n",
      "min    8.200000e+01  2.057760e+08            2023-05-25 00:00:00   \n",
      "25%    7.845310e+06  3.670212e+08            2023-05-27 00:25:34   \n",
      "50%    1.645390e+07  3.675990e+08            2023-05-29 01:04:08   \n",
      "75%    2.570430e+07  4.771376e+08     2023-05-29 22:15:20.500000   \n",
      "max    3.518632e+07  6.718300e+08            2023-05-31 23:59:59   \n",
      "std    1.031064e+07  1.081609e+08                            NaN   \n",
      "\n",
      "                 LAT            LON            SOG            COG  \\\n",
      "count  411723.000000  411723.000000  411723.000000  371787.000000   \n",
      "mean       28.665941     -90.065868       3.354600     194.007270   \n",
      "min        23.386430     -97.396580       0.000000       0.000000   \n",
      "25%        27.878770     -94.448555       0.000000     115.000000   \n",
      "50%        29.258580     -90.209540       0.000000     207.100000   \n",
      "75%        29.725690     -89.098555       5.800000     277.000000   \n",
      "max        31.998470     -76.492140      34.400000     359.900000   \n",
      "std         1.454098       5.166867       5.836501     101.812955   \n",
      "\n",
      "             Heading     VesselType         Status         Length  \\\n",
      "count  267527.000000  411723.000000  411723.000000  393426.000000   \n",
      "mean      183.661765      68.682051       3.004178     117.467420   \n",
      "min         0.000000      60.000000       0.000000       0.000000   \n",
      "25%        85.000000      60.000000       0.000000      35.000000   \n",
      "50%       177.000000      70.000000       0.000000      87.000000   \n",
      "75%       288.000000      80.000000       5.000000     185.000000   \n",
      "max       359.000000      89.000000      15.000000     334.000000   \n",
      "std       112.251487       8.574370       5.011241      93.638247   \n",
      "\n",
      "               Width          Draft          Cargo  \n",
      "count  367428.000000  268706.000000  409615.000000  \n",
      "mean       21.005672       7.607627      66.746289  \n",
      "min         0.000000       0.000000       0.000000  \n",
      "25%         9.000000       3.300000      60.000000  \n",
      "50%        18.000000       8.200000      70.000000  \n",
      "75%        32.000000      11.000000      80.000000  \n",
      "max        60.000000      20.400000      99.000000  \n",
      "std        14.050956       4.440219      18.136256  \n",
      "VesselType\n",
      "60    174436\n",
      "70    106852\n",
      "80     97889\n",
      "71      6879\n",
      "89      6805\n",
      "79      5543\n",
      "69      5517\n",
      "82      2511\n",
      "74      1959\n",
      "61      1840\n",
      "84      1492\n",
      "Name: count, dtype: int64\n"
     ]
    }
   ],
   "source": [
    "print(df.head())\n",
    "print(df.info())\n",
    "print(df.describe())\n",
    "print(df[\"VesselType\"].value_counts())"
   ]
  },
  {
   "cell_type": "markdown",
   "id": "be6be89a",
   "metadata": {},
   "source": [
    "ajout des colones lat et long +5, +10, +15 à la dataframe"
   ]
  },
  {
   "cell_type": "code",
   "execution_count": null,
   "id": "8768f914",
   "metadata": {},
   "outputs": [
    {
     "name": "stdout",
     "output_type": "stream",
     "text": [
      "             id       MMSI BaseDateTime       LAT       LON   SOG    COG  \\\n",
      "117352  9030257  563020500   2023-05-25  28.82655 -89.43528  14.2  207.9   \n",
      "117395  9032593  366954420   2023-05-25  27.77639 -82.63030   0.1  294.9   \n",
      "117339  9029199  215583000   2023-05-25  26.48967 -79.39617  10.2  182.7   \n",
      "117360  9030460  367181550   2023-05-25  29.85450 -89.98148   0.0  298.2   \n",
      "117442  9036191  368045410   2023-05-25  27.84124 -97.06945   5.9   15.5   \n",
      "\n",
      "        Heading        VesselName            IMO  ... Width  Draft  Cargo  \\\n",
      "117352    206.0       MERCURY SKY     IMO9796949  ...   NaN    NaN   70.0   \n",
      "117395    294.0  PROVINCETOWN III     IMO9329394  ...   9.0    1.9   60.0   \n",
      "117339    184.0         COBIA LNG     IMO9869306  ...  46.0    9.4   84.0   \n",
      "117360      NaN   BELLE CHASSE II            NaN  ...  16.0    NaN   60.0   \n",
      "117442      NaN    JOSEPH F WEBER  IMO1012865430  ...  16.0    3.3   60.0   \n",
      "\n",
      "        TransceiverClass  LONG_5  LAT_5  LONG_10 LAT_10 LONG_15 LAT_15  \n",
      "117352                 A    None   None     None   None    None   None  \n",
      "117395                 A    None   None     None   None    None   None  \n",
      "117339                 A    None   None     None   None    None   None  \n",
      "117360                 A    None   None     None   None    None   None  \n",
      "117442                 A    None   None     None   None    None   None  \n",
      "\n",
      "[5 rows x 24 columns]\n"
     ]
    }
   ],
   "source": [
    "nouvelles_colonnes = ['LONG_5', 'LAT_5', 'LONG_10', 'LAT_10', 'LONG_15', 'LAT_15', 'Delta_temps']\n",
    "\n",
    "# Ajout des colonnes avec des valeurs vides (NaN)\n",
    "for col in nouvelles_colonnes:\n",
    "    df[col] = None  # ou pd.NA, ou np.nan si vous utilisez numpy\n",
    "\n",
    "\n",
    "print(df.head())"
   ]
  },
  {
   "cell_type": "code",
   "execution_count": 6,
   "id": "ec7d61b5",
   "metadata": {},
   "outputs": [
    {
     "name": "stdout",
     "output_type": "stream",
     "text": [
      "Nombre de MMSI uniques:\n",
      "Train: 97\n",
      "Test : 30\n",
      "Val  : 22\n"
     ]
    }
   ],
   "source": [
    "\n",
    "#Séparation en bases d'apprentissage, test et validation par MMSI\n",
    "\n",
    "# Récupération des MMSI uniques et suppr valeurs manquantes\n",
    "mmsi_uniques = df['MMSI'].dropna().unique()\n",
    "\n",
    "# Mélange aléatoire\n",
    "np.random.seed(42)\n",
    "np.random.shuffle(mmsi_uniques)\n",
    "\n",
    "# Affectation fixe : 97 pour apprentissage, 30 pour test, 22 pour validation\n",
    "n_train = 97\n",
    "n_test = 30\n",
    "n_val = 22\n",
    "\n",
    "mmsi_train = mmsi_uniques[:n_train]\n",
    "mmsi_test = mmsi_uniques[n_train:n_train + n_test]\n",
    "mmsi_val = mmsi_uniques[n_train + n_test:n_train + n_test + n_val]\n",
    "\n",
    "# Création des trois sous-ensembles\n",
    "df_train = df[df['MMSI'].isin(mmsi_train)]\n",
    "df_test = df[df['MMSI'].isin(mmsi_test)]\n",
    "df_val = df[df['MMSI'].isin(mmsi_val)]\n",
    "\n",
    "# Affichage pour vérification\n",
    "print(\"Nombre de MMSI uniques:\")\n",
    "print(\"Train:\", df_train['MMSI'].nunique())\n",
    "print(\"Test :\", df_test['MMSI'].nunique())\n",
    "print(\"Val  :\", df_val['MMSI'].nunique())\n",
    "\n",
    "\n"
   ]
  },
  {
   "cell_type": "markdown",
   "id": "a55fde09",
   "metadata": {},
   "source": [
    "création de la dataframe"
   ]
  },
  {
   "cell_type": "code",
   "execution_count": 19,
   "id": "771eaa97",
   "metadata": {},
   "outputs": [
    {
     "name": "stdout",
     "output_type": "stream",
     "text": [
      "             id       MMSI        BaseDateTime       LAT       LON   SOG  \\\n",
      "117354  9030354  209513000 2023-05-25 00:00:04  26.34658 -78.94057  31.9   \n",
      "117425  9035334  209513000 2023-05-25 00:01:06  26.33986 -78.94755  31.9   \n",
      "117521  9042882  209513000 2023-05-25 00:02:16  26.33224 -78.95551  32.2   \n",
      "118718  9138497  209513000 2023-05-25 00:11:58  26.26969 -79.02179  31.6   \n",
      "118261  9101604  209513000 2023-05-25 00:14:42  26.25213 -79.04084  32.3   \n",
      "\n",
      "          COG  Heading   VesselName         IMO  ... Width  Draft  Cargo  \\\n",
      "117354  222.8    224.0  OCEAN PEARL  IMO9060247  ...  27.0    9.8   49.0   \n",
      "117425  224.1    226.0  OCEAN PEARL  IMO9060247  ...  27.0    9.8   49.0   \n",
      "117521  223.0    224.0  OCEAN PEARL  IMO9060247  ...  27.0    9.8   49.0   \n",
      "118718  224.3    225.0  OCEAN PEARL  IMO9060247  ...  27.0    9.8   49.0   \n",
      "118261  222.3    223.0  OCEAN PEARL  IMO9060247  ...  27.0    9.8   49.0   \n",
      "\n",
      "        TransceiverClass  LONG_5  LAT_5  LONG_10 LAT_10 LONG_15 LAT_15  \n",
      "117354                 A    None   None     None   None    None   None  \n",
      "117425                 A    None   None     None   None    None   None  \n",
      "117521                 A    None   None     None   None    None   None  \n",
      "118718                 A    None   None     None   None    None   None  \n",
      "118261                 A    None   None     None   None    None   None  \n",
      "\n",
      "[5 rows x 24 columns]\n",
      "\n",
      "\n",
      "\n",
      "\n",
      "  ===============================================================  \n",
      "\n",
      "\n",
      "\n",
      "\n",
      "             id       MMSI        BaseDateTime       LAT       LON   SOG  \\\n",
      "117339  9029199  215583000 2023-05-25 00:00:00  26.48967 -79.39617  10.2   \n",
      "117360  9030460  367181550 2023-05-25 00:00:00  29.85450 -89.98148   0.0   \n",
      "117403  9033249  477137600 2023-05-25 00:00:01  26.30728 -79.26286  12.6   \n",
      "117337  9029096  367345040 2023-05-25 00:00:02  29.62820 -94.95548   0.0   \n",
      "117340  9029213  366983730 2023-05-25 00:00:05  29.06302 -88.95610   0.3   \n",
      "\n",
      "          COG  Heading        VesselName         IMO  ... Width  Draft  Cargo  \\\n",
      "117339  182.7    184.0         COBIA LNG  IMO9869306  ...  46.0    9.4   84.0   \n",
      "117360  298.2      NaN   BELLE CHASSE II         NaN  ...  16.0    NaN   60.0   \n",
      "117403  225.5    225.0  ORIENTAL JUBILEE  IMO9763813  ...   NaN    NaN   80.0   \n",
      "117337    NaN      NaN       SUN FIGHTER         NaN  ...   5.0    NaN    5.0   \n",
      "117340   35.7      NaN          MR LLOYD  IMO8988480  ...   9.0    NaN   60.0   \n",
      "\n",
      "        TransceiverClass  LONG_5  LAT_5  LONG_10 LAT_10 LONG_15 LAT_15  \n",
      "117339                 A    None   None     None   None    None   None  \n",
      "117360                 A    None   None     None   None    None   None  \n",
      "117403                 A    None   None     None   None    None   None  \n",
      "117337                 A    None   None     None   None    None   None  \n",
      "117340                 A    None   None     None   None    None   None  \n",
      "\n",
      "[5 rows x 24 columns]\n",
      "\n",
      "\n",
      "\n",
      "\n",
      "  ===============================================================  \n",
      "\n",
      "\n",
      "\n",
      "\n",
      "             id       MMSI        BaseDateTime       LAT       LON   SOG  \\\n",
      "117395  9032593  366954420 2023-05-25 00:00:00  27.77639 -82.63030   0.1   \n",
      "117356  9030360  367106880 2023-05-25 00:00:02  29.90115 -90.08112   0.0   \n",
      "117451  9037266  538008705 2023-05-25 00:00:03  29.19053 -94.50268  10.8   \n",
      "117345  9029752  367740670 2023-05-25 00:00:03  27.84395 -97.07004   0.0   \n",
      "117346  9029758  538009657 2023-05-25 00:00:05  29.59278 -89.82298  14.9   \n",
      "\n",
      "          COG  Heading        VesselName         IMO  ... Width  Draft  Cargo  \\\n",
      "117395  294.9    294.0  PROVINCETOWN III  IMO9329394  ...   9.0    1.9   60.0   \n",
      "117356  231.9    342.0         NEW ROADS  IMO7527980  ...  20.0    1.5   60.0   \n",
      "117451  134.6    134.0     SOLAR SUZANNE  IMO9877638  ...  25.0    7.9   80.0   \n",
      "117345  281.6      NaN  CHARLES W. HEALD         NaN  ...   NaN    NaN   60.0   \n",
      "117346  128.4    130.0    CLIPPER MEDWAY  IMO9587221  ...  30.0    7.1   70.0   \n",
      "\n",
      "        TransceiverClass  LONG_5  LAT_5  LONG_10 LAT_10 LONG_15 LAT_15  \n",
      "117395                 A    None   None     None   None    None   None  \n",
      "117356                 A    None   None     None   None    None   None  \n",
      "117451                 A    None   None     None   None    None   None  \n",
      "117345                 A    None   None     None   None    None   None  \n",
      "117346                 A    None   None     None   None    None   None  \n",
      "\n",
      "[5 rows x 24 columns]\n"
     ]
    }
   ],
   "source": [
    "print(df_train.head(5))\n",
    "print(\"\\n\")\n",
    "print(\"\\n\")\n",
    "print(\"  ===============================================================  \")\n",
    "print(\"\\n\")\n",
    "print(\"\\n\")\n",
    "print(df_test.head(5))\n",
    "print(\"\\n\")\n",
    "print(\"\\n\")\n",
    "print(\"  ===============================================================  \")\n",
    "print(\"\\n\")\n",
    "print(\"\\n\")\n",
    "print(df_val.head(5))"
   ]
  },
  {
   "cell_type": "code",
   "execution_count": 21,
   "id": "24268a24",
   "metadata": {},
   "outputs": [
    {
     "name": "stdout",
     "output_type": "stream",
     "text": [
      "             id       MMSI        BaseDateTime       LAT       LON   SOG  \\\n",
      "117354  9030354  209513000 2023-05-25 00:00:04  26.34658 -78.94057  31.9   \n",
      "117425  9035334  209513000 2023-05-25 00:01:06  26.33986 -78.94755  31.9   \n",
      "117521  9042882  209513000 2023-05-25 00:02:16  26.33224 -78.95551  32.2   \n",
      "118718  9138497  209513000 2023-05-25 00:11:58  26.26969 -79.02179  31.6   \n",
      "118261  9101604  209513000 2023-05-25 00:14:42  26.25213 -79.04084  32.3   \n",
      "119115  9170094  209513000 2023-05-25 00:16:20  26.24117 -79.05147  32.3   \n",
      "121742  9370175  209513000 2023-05-25 00:18:36  26.22595 -79.06683  32.9   \n",
      "118618  9129883  209513000 2023-05-25 00:19:42  26.21860 -79.07424  32.5   \n",
      "118772  9142300  209513000 2023-05-25 00:20:43  26.21183 -79.08091  31.0   \n",
      "118884  9152712  209513000 2023-05-25 00:21:44  26.20550 -79.08769  32.3   \n",
      "\n",
      "          COG  Heading   VesselName         IMO  ... Width  Draft  Cargo  \\\n",
      "117354  222.8    224.0  OCEAN PEARL  IMO9060247  ...  27.0    9.8   49.0   \n",
      "117425  224.1    226.0  OCEAN PEARL  IMO9060247  ...  27.0    9.8   49.0   \n",
      "117521  223.0    224.0  OCEAN PEARL  IMO9060247  ...  27.0    9.8   49.0   \n",
      "118718  224.3    225.0  OCEAN PEARL  IMO9060247  ...  27.0    9.8   49.0   \n",
      "118261  222.3    223.0  OCEAN PEARL  IMO9060247  ...  27.0    9.8   49.0   \n",
      "119115  220.4    221.0  OCEAN PEARL  IMO9060247  ...  27.0    9.8   49.0   \n",
      "121742  224.5    224.0  OCEAN PEARL  IMO9060247  ...  27.0    9.8   49.0   \n",
      "118618  224.7    224.0  OCEAN PEARL  IMO9060247  ...  27.0    9.8   49.0   \n",
      "118772  220.0    220.0  OCEAN PEARL  IMO9060247  ...  27.0    9.8   49.0   \n",
      "118884  221.2    219.0  OCEAN PEARL  IMO9060247  ...  27.0    9.8   49.0   \n",
      "\n",
      "        TransceiverClass  LONG_5  LAT_5  LONG_10 LAT_10 LONG_15 LAT_15  \n",
      "117354                 A    None   None     None   None    None   None  \n",
      "117425                 A    None   None     None   None    None   None  \n",
      "117521                 A    None   None     None   None    None   None  \n",
      "118718                 A    None   None     None   None    None   None  \n",
      "118261                 A    None   None     None   None    None   None  \n",
      "119115                 A    None   None     None   None    None   None  \n",
      "121742                 A    None   None     None   None    None   None  \n",
      "118618                 A    None   None     None   None    None   None  \n",
      "118772                 A    None   None     None   None    None   None  \n",
      "118884                 A    None   None     None   None    None   None  \n",
      "\n",
      "[10 rows x 24 columns]\n"
     ]
    },
    {
     "name": "stderr",
     "output_type": "stream",
     "text": [
      "C:\\Users\\Paul\\AppData\\Local\\Temp\\ipykernel_26172\\703263359.py:1: SettingWithCopyWarning: \n",
      "A value is trying to be set on a copy of a slice from a DataFrame\n",
      "\n",
      "See the caveats in the documentation: https://pandas.pydata.org/pandas-docs/stable/user_guide/indexing.html#returning-a-view-versus-a-copy\n",
      "  df_train.sort_values([\"MMSI\",\"BaseDateTime\"], inplace=True)\n"
     ]
    }
   ],
   "source": [
    "df_train.sort_values([\"MMSI\",\"BaseDateTime\"], inplace=True)\n",
    "print(df_train.head(10))\n"
   ]
  },
  {
   "cell_type": "code",
   "execution_count": null,
   "id": "c849721b",
   "metadata": {},
   "outputs": [
    {
     "name": "stdout",
     "output_type": "stream",
     "text": [
      "Taille de l'ensemble d'apprentissage : 270763\n",
      "Taille de l'ensemble de test : 82909\n",
      "Taille de l'ensemble de validation : 58051\n"
     ]
    },
    {
     "ename": "",
     "evalue": "",
     "output_type": "error",
     "traceback": [
      "\u001b[1;31mThe Kernel crashed while executing code in the current cell or a previous cell. \n",
      "\u001b[1;31mPlease review the code in the cell(s) to identify a possible cause of the failure. \n",
      "\u001b[1;31mClick <a href='https://aka.ms/vscodeJupyterKernelCrash'>here</a> for more info. \n",
      "\u001b[1;31mView Jupyter <a href='command:jupyter.viewOutput'>log</a> for further details."
     ]
    }
   ],
   "source": [
    "print(f\"Taille de l'ensemble d'apprentissage : {len(df_train)}\")\n",
    "print(f\"Taille de l'ensemble de test : {len(df_test)}\")\n",
    "print(f\"Taille de l'ensemble de validation : {len(df_val)}\")\n"
   ]
  }
 ],
 "metadata": {
  "kernelspec": {
   "display_name": "Python 3",
   "language": "python",
   "name": "python3"
  },
  "language_info": {
   "codemirror_mode": {
    "name": "ipython",
    "version": 3
   },
   "file_extension": ".py",
   "mimetype": "text/x-python",
   "name": "python",
   "nbconvert_exporter": "python",
   "pygments_lexer": "ipython3",
   "version": "3.13.4"
  }
 },
 "nbformat": 4,
 "nbformat_minor": 5
}
