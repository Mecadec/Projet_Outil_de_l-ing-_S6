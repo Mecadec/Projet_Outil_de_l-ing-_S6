{
 "cells": [
  {
   "cell_type": "markdown",
   "id": "61bbd2aa",
   "metadata": {},
   "source": [
    "Import\n"
   ]
  },
  {
   "cell_type": "code",
   "execution_count": 1,
   "id": "94dff4d3",
   "metadata": {},
   "outputs": [],
   "source": [
    "import pandas as pd\n",
    "from sklearn.preprocessing import OrdinalEncoder\n",
    "from sklearn.linear_model import LinearRegression\n",
    "from sklearn.tree import DecisionTreeRegressor\n",
    "from sklearn.metrics import mean_squared_error\n",
    "import numpy as np\n",
    "import tensorflow as tf\n",
    "from tensorflow import keras\n",
    "from tensorflow.keras import layers\n",
    "import matplotlib.pyplot as plt\n"
   ]
  },
  {
   "cell_type": "markdown",
   "id": "4873d106",
   "metadata": {},
   "source": [
    "création de la dataframe"
   ]
  },
  {
   "cell_type": "code",
   "execution_count": 2,
   "id": "420875e8",
   "metadata": {},
   "outputs": [],
   "source": [
    "df = pd.read_csv(r\"After_Sort.csv\", parse_dates=[\"BaseDateTime\"])\n",
    "df.sort_values(\"BaseDateTime\", inplace=True)"
   ]
  },
  {
   "cell_type": "markdown",
   "id": "38b1045d",
   "metadata": {},
   "source": [
    "print informations"
   ]
  },
  {
   "cell_type": "code",
   "execution_count": 3,
   "id": "5ab3ce7f",
   "metadata": {},
   "outputs": [
    {
     "name": "stdout",
     "output_type": "stream",
     "text": [
      "             id       MMSI BaseDateTime       LAT       LON   SOG    COG  \\\n",
      "117352  9030257  563020500   2023-05-25  28.82655 -89.43528  14.2  207.9   \n",
      "117395  9032593  366954420   2023-05-25  27.77639 -82.63030   0.1  294.9   \n",
      "117339  9029199  215583000   2023-05-25  26.48967 -79.39617  10.2  182.7   \n",
      "117360  9030460  367181550   2023-05-25  29.85450 -89.98148   0.0  298.2   \n",
      "117442  9036191  368045410   2023-05-25  27.84124 -97.06945   5.9   15.5   \n",
      "\n",
      "        Heading        VesselName            IMO CallSign  VesselType  Status  \\\n",
      "117352    206.0       MERCURY SKY     IMO9796949   9V5148          70       0   \n",
      "117395    294.0  PROVINCETOWN III     IMO9329394  WDB8185          60       0   \n",
      "117339    184.0         COBIA LNG     IMO9869306  9HA5192          84       0   \n",
      "117360      NaN   BELLE CHASSE II            NaN  WDD7069          60       0   \n",
      "117442      NaN    JOSEPH F WEBER  IMO1012865430  WDK3453          60       0   \n",
      "\n",
      "        Length  Width  Draft  Cargo TransceiverClass  \n",
      "117352     NaN    NaN    NaN   70.0                A  \n",
      "117395    30.0    9.0    1.9   60.0                A  \n",
      "117339   299.0   46.0    9.4   84.0                A  \n",
      "117360    41.0   16.0    NaN   60.0                A  \n",
      "117442    46.0   16.0    3.3   60.0                A  \n",
      "<class 'pandas.core.frame.DataFrame'>\n",
      "Index: 411723 entries, 117352 to 402776\n",
      "Data columns (total 18 columns):\n",
      " #   Column            Non-Null Count   Dtype         \n",
      "---  ------            --------------   -----         \n",
      " 0   id                411723 non-null  int64         \n",
      " 1   MMSI              411723 non-null  int64         \n",
      " 2   BaseDateTime      411723 non-null  datetime64[ns]\n",
      " 3   LAT               411723 non-null  float64       \n",
      " 4   LON               411723 non-null  float64       \n",
      " 5   SOG               411723 non-null  float64       \n",
      " 6   COG               371787 non-null  float64       \n",
      " 7   Heading           267527 non-null  float64       \n",
      " 8   VesselName        411723 non-null  object        \n",
      " 9   IMO               297387 non-null  object        \n",
      " 10  CallSign          409921 non-null  object        \n",
      " 11  VesselType        411723 non-null  int64         \n",
      " 12  Status            411723 non-null  int64         \n",
      " 13  Length            393426 non-null  float64       \n",
      " 14  Width             367428 non-null  float64       \n",
      " 15  Draft             268706 non-null  float64       \n",
      " 16  Cargo             409615 non-null  float64       \n",
      " 17  TransceiverClass  411723 non-null  object        \n",
      "dtypes: datetime64[ns](1), float64(9), int64(4), object(4)\n",
      "memory usage: 59.7+ MB\n",
      "None\n",
      "                 id          MMSI                   BaseDateTime  \\\n",
      "count  4.117230e+05  4.117230e+05                         411723   \n",
      "mean   1.676658e+07  4.051087e+08  2023-05-28 11:51:24.290372096   \n",
      "min    8.200000e+01  2.057760e+08            2023-05-25 00:00:00   \n",
      "25%    7.845310e+06  3.670212e+08            2023-05-27 00:25:34   \n",
      "50%    1.645390e+07  3.675990e+08            2023-05-29 01:04:08   \n",
      "75%    2.570430e+07  4.771376e+08     2023-05-29 22:15:20.500000   \n",
      "max    3.518632e+07  6.718300e+08            2023-05-31 23:59:59   \n",
      "std    1.031064e+07  1.081609e+08                            NaN   \n",
      "\n",
      "                 LAT            LON            SOG            COG  \\\n",
      "count  411723.000000  411723.000000  411723.000000  371787.000000   \n",
      "mean       28.665941     -90.065868       3.354600     194.007270   \n",
      "min        23.386430     -97.396580       0.000000       0.000000   \n",
      "25%        27.878770     -94.448555       0.000000     115.000000   \n",
      "50%        29.258580     -90.209540       0.000000     207.100000   \n",
      "75%        29.725690     -89.098555       5.800000     277.000000   \n",
      "max        31.998470     -76.492140      34.400000     359.900000   \n",
      "std         1.454098       5.166867       5.836501     101.812955   \n",
      "\n",
      "             Heading     VesselType         Status         Length  \\\n",
      "count  267527.000000  411723.000000  411723.000000  393426.000000   \n",
      "mean      183.661765      68.682051       3.004178     117.467420   \n",
      "min         0.000000      60.000000       0.000000       0.000000   \n",
      "25%        85.000000      60.000000       0.000000      35.000000   \n",
      "50%       177.000000      70.000000       0.000000      87.000000   \n",
      "75%       288.000000      80.000000       5.000000     185.000000   \n",
      "max       359.000000      89.000000      15.000000     334.000000   \n",
      "std       112.251487       8.574370       5.011241      93.638247   \n",
      "\n",
      "               Width          Draft          Cargo  \n",
      "count  367428.000000  268706.000000  409615.000000  \n",
      "mean       21.005672       7.607627      66.746289  \n",
      "min         0.000000       0.000000       0.000000  \n",
      "25%         9.000000       3.300000      60.000000  \n",
      "50%        18.000000       8.200000      70.000000  \n",
      "75%        32.000000      11.000000      80.000000  \n",
      "max        60.000000      20.400000      99.000000  \n",
      "std        14.050956       4.440219      18.136256  \n",
      "VesselType\n",
      "60    174436\n",
      "70    106852\n",
      "80     97889\n",
      "71      6879\n",
      "89      6805\n",
      "79      5543\n",
      "69      5517\n",
      "82      2511\n",
      "74      1959\n",
      "61      1840\n",
      "84      1492\n",
      "Name: count, dtype: int64\n"
     ]
    }
   ],
   "source": [
    "print(df.head())\n",
    "print(df.info())\n",
    "print(df.describe())\n",
    "print(df[\"VesselType\"].value_counts())"
   ]
  },
  {
   "cell_type": "markdown",
   "id": "be6be89a",
   "metadata": {},
   "source": [
    "ajout des colones lat et long +5, +10, +15 et delta_temps à la dataframe"
   ]
  },
  {
   "cell_type": "code",
   "execution_count": 5,
   "id": "8768f914",
   "metadata": {},
   "outputs": [
    {
     "name": "stdout",
     "output_type": "stream",
     "text": [
      "             id       MMSI BaseDateTime       LAT       LON   SOG    COG  \\\n",
      "117352  9030257  563020500   2023-05-25  28.82655 -89.43528  14.2  207.9   \n",
      "117395  9032593  366954420   2023-05-25  27.77639 -82.63030   0.1  294.9   \n",
      "117339  9029199  215583000   2023-05-25  26.48967 -79.39617  10.2  182.7   \n",
      "117360  9030460  367181550   2023-05-25  29.85450 -89.98148   0.0  298.2   \n",
      "117442  9036191  368045410   2023-05-25  27.84124 -97.06945   5.9   15.5   \n",
      "\n",
      "        Heading        VesselName            IMO  ... Draft  Cargo  \\\n",
      "117352    206.0       MERCURY SKY     IMO9796949  ...   NaN   70.0   \n",
      "117395    294.0  PROVINCETOWN III     IMO9329394  ...   1.9   60.0   \n",
      "117339    184.0         COBIA LNG     IMO9869306  ...   9.4   84.0   \n",
      "117360      NaN   BELLE CHASSE II            NaN  ...   NaN   60.0   \n",
      "117442      NaN    JOSEPH F WEBER  IMO1012865430  ...   3.3   60.0   \n",
      "\n",
      "        TransceiverClass  LONG_5  LAT_5  LONG_10  LAT_10 LONG_15 LAT_15  \\\n",
      "117352                 A    None   None     None    None    None   None   \n",
      "117395                 A    None   None     None    None    None   None   \n",
      "117339                 A    None   None     None    None    None   None   \n",
      "117360                 A    None   None     None    None    None   None   \n",
      "117442                 A    None   None     None    None    None   None   \n",
      "\n",
      "       Delta_temps  \n",
      "117352        None  \n",
      "117395        None  \n",
      "117339        None  \n",
      "117360        None  \n",
      "117442        None  \n",
      "\n",
      "[5 rows x 25 columns]\n"
     ]
    }
   ],
   "source": [
    "nouvelles_colonnes = ['LONG_5', 'LAT_5', 'LONG_10', 'LAT_10', 'LONG_15', 'LAT_15','Delta_temps']\n",
    "\n",
    "# Ajout des colonnes avec des valeurs vides (NaN)\n",
    "for col in nouvelles_colonnes:\n",
    "    df[col] = None  # ou pd.NA, ou np.nan si vous utilisez numpy\n",
    "\n",
    "\n",
    "print(df.head())"
   ]
  },
  {
   "cell_type": "code",
   "execution_count": null,
   "id": "a1ed6e32",
   "metadata": {},
   "outputs": [],
   "source": []
  },
  {
   "cell_type": "markdown",
   "id": "6e701a7f",
   "metadata": {},
   "source": [
    "Remplissage de la colonne Delta_temps"
   ]
  },
  {
   "cell_type": "code",
   "execution_count": 6,
   "id": "9464cebc",
   "metadata": {},
   "outputs": [],
   "source": [
    "df['Delta_temps'] = df.sort_values(['MMSI', 'BaseDateTime']).groupby('MMSI')['BaseDateTime'].diff().dt.total_seconds()"
   ]
  },
  {
   "cell_type": "code",
   "execution_count": 8,
   "id": "74ff37e7",
   "metadata": {},
   "outputs": [
    {
     "name": "stdout",
     "output_type": "stream",
     "text": [
      "             id       MMSI        BaseDateTime       LAT       LON  SOG   COG  \\\n",
      "117823  9067786  205776000 2023-05-25 00:07:27  25.95847 -97.37876  0.0  77.2   \n",
      "118169  9094320  205776000 2023-05-25 00:13:27  25.95846 -97.37880  0.0  77.2   \n",
      "118391  9113012  205776000 2023-05-25 00:16:27  25.95847 -97.37880  0.0  77.2   \n",
      "125113  9625845  205776000 2023-05-25 00:31:27  25.95848 -97.37879  0.0  77.2   \n",
      "120283  9261545  205776000 2023-05-25 00:34:27  25.95846 -97.37882  0.0  77.2   \n",
      "\n",
      "        Heading VesselName         IMO  ...  LONG_5    LONG_5  LAT_10  \\\n",
      "117823    249.0    LA LUNA  IMO9846079  ...    None -89.96854    None   \n",
      "118169    249.0    LA LUNA  IMO9846079  ...    None -93.32482    None   \n",
      "118391    249.0    LA LUNA  IMO9846079  ...    None -89.86643    None   \n",
      "125113    249.0    LA LUNA  IMO9846079  ...    None -95.80343    None   \n",
      "120283    249.0    LA LUNA  IMO9846079  ...    None -93.82770    None   \n",
      "\n",
      "          LAT_10  LONG_10   LONG_10 LAT_15    LAT_15 LONG_15   LONG_15  \n",
      "117823  29.25484     None -89.96855   None  29.25485    None -89.96853  \n",
      "118169  29.79502     None -93.32482   None  29.79503    None -93.32483  \n",
      "118391  29.60288     None -89.86641   None  29.60290    None -89.86644  \n",
      "125113  26.17596     None -95.78374   None  26.17858    None -95.76345  \n",
      "120283  29.67344     None -93.83291   None  29.68841    None -93.83743  \n",
      "\n",
      "[5 rows x 31 columns]\n"
     ]
    }
   ],
   "source": [
    "print(df.head())"
   ]
  },
  {
   "cell_type": "code",
   "execution_count": null,
   "id": "cd622423",
   "metadata": {},
   "outputs": [],
   "source": []
  },
  {
   "cell_type": "markdown",
   "id": "bfa85602",
   "metadata": {},
   "source": [
    "Séparation en bases d'apprentissage, test et validation par MMSI"
   ]
  },
  {
   "cell_type": "code",
   "execution_count": null,
   "id": "ec7d61b5",
   "metadata": {},
   "outputs": [
    {
     "name": "stdout",
     "output_type": "stream",
     "text": [
      "Nombre de MMSI uniques:\n",
      "Train: 97\n",
      "Test : 30\n",
      "Val  : 22\n"
     ]
    }
   ],
   "source": [
    "\n",
    "# Récupération des MMSI uniques et suppr valeurs manquantes\n",
    "mmsi_uniques = df['MMSI'].dropna().unique()\n",
    "\n",
    "# Mélange aléatoire\n",
    "np.random.seed(42)\n",
    "np.random.shuffle(mmsi_uniques)\n",
    "\n",
    "# Affectation fixe : 97 pour apprentissage, 30 pour test, 22 pour validation\n",
    "n_train = 97\n",
    "n_test = 30\n",
    "n_val = 22\n",
    "\n",
    "mmsi_train = mmsi_uniques[:n_train]\n",
    "mmsi_test = mmsi_uniques[n_train:n_train + n_test]\n",
    "mmsi_val = mmsi_uniques[n_train + n_test:n_train + n_test + n_val]\n",
    "\n",
    "# Création des trois sous-ensembles\n",
    "df_train = df[df['MMSI'].isin(mmsi_train)]\n",
    "df_test = df[df['MMSI'].isin(mmsi_test)]\n",
    "df_val = df[df['MMSI'].isin(mmsi_val)]\n",
    "\n",
    "# Affichage pour vérification\n",
    "print(\"Nombre de MMSI uniques:\")\n",
    "print(\"Train:\", df_train['MMSI'].nunique())\n",
    "print(\"Test :\", df_test['MMSI'].nunique())\n",
    "print(\"Val  :\", df_val['MMSI'].nunique())\n",
    "\n",
    "\n"
   ]
  },
  {
   "cell_type": "markdown",
   "id": "a55fde09",
   "metadata": {},
   "source": [
    "Observation de début de chaque df"
   ]
  },
  {
   "cell_type": "code",
   "execution_count": null,
   "id": "771eaa97",
   "metadata": {},
   "outputs": [],
   "source": [
    "print(df_train.head(5))\n",
    "print(\"\\n\")\n",
    "print(\"\\n\")\n",
    "print(\"  ===============================================================  \")\n",
    "print(\"\\n\")\n",
    "print(\"\\n\")\n",
    "print(df_test.head(5))\n",
    "print(\"\\n\")\n",
    "print(\"\\n\")\n",
    "print(\"  ===============================================================  \")\n",
    "print(\"\\n\")\n",
    "print(\"\\n\")\n",
    "print(df_val.head(5))"
   ]
  },
  {
   "cell_type": "code",
   "execution_count": null,
   "id": "24268a24",
   "metadata": {},
   "outputs": [],
   "source": [
    "df_train.sort_values([\"MMSI\",\"BaseDateTime\"], inplace=True)\n",
    "print(df_train.head(10))\n"
   ]
  },
  {
   "cell_type": "code",
   "execution_count": null,
   "id": "c849721b",
   "metadata": {},
   "outputs": [],
   "source": [
    "print(f\"Taille de l'ensemble d'apprentissage : {len(df_train)}\")\n",
    "print(f\"Taille de l'ensemble de test : {len(df_test)}\")\n",
    "print(f\"Taille de l'ensemble de validation : {len(df_val)}\")\n"
   ]
  },
  {
   "cell_type": "code",
   "execution_count": null,
   "id": "22f5eefa",
   "metadata": {},
   "outputs": [],
   "source": [
    "df_train.sort_values([\"MMSI\",\"BaseDateTime\"], inplace=True)\n",
    "print(df_train.head())\n",
    "# print(df_train.iloc[2950:3000])\n"
   ]
  },
  {
   "cell_type": "markdown",
   "id": "a1a171d1",
   "metadata": {},
   "source": [
    "prendre entre 295 et 305sec\n",
    "prendre entre 595 et 605sec\n",
    "prendre entre 895 et 905sec"
   ]
  },
  {
   "cell_type": "code",
   "execution_count": null,
   "id": "44602cd1",
   "metadata": {},
   "outputs": [],
   "source": [
    "def interpoler_positions_dataframe(df):\n",
    "    \"\"\"\n",
    "    Fonction pour interpoler les positions à 5, 10 et 15 minutes\n",
    "    pour un dataframe donné\n",
    "    \"\"\"\n",
    "    # Créer une copie pour éviter les warnings\n",
    "    df_copy = df.copy()\n",
    "    \n",
    "    # Trier par MMSI et datetime pour assurer l'ordre chronologique\n",
    "    df_copy = df_copy.sort_values(['MMSI', 'BaseDateTime']).reset_index(drop=True)\n",
    "    \n",
    "    print(f\"Début de l'interpolation pour {len(df_copy)} lignes...\")\n",
    "    \n",
    "    # Parcourir chaque navire\n",
    "    for mmsi in df_copy['MMSI'].unique():\n",
    "        # Filtrer les données du navire actuel\n",
    "        mask_navire = df_copy['MMSI'] == mmsi\n",
    "        indices_navire = df_copy[mask_navire].index.tolist()\n",
    "        \n",
    "        # Parcourir les positions de ce navire\n",
    "        for i in range(len(indices_navire) - 1):\n",
    "            idx_actuel = indices_navire[i]\n",
    "            idx_suivant = indices_navire[i + 1]\n",
    "            \n",
    "            # Récupérer les positions et temps\n",
    "            lat_A = df_copy.loc[idx_actuel, 'LAT']\n",
    "            lon_A = df_copy.loc[idx_actuel, 'LON']\n",
    "            time_A = df_copy.loc[idx_actuel, 'BaseDateTime']\n",
    "            \n",
    "            lat_B = df_copy.loc[idx_suivant, 'LAT']\n",
    "            lon_B = df_copy.loc[idx_suivant, 'LON']\n",
    "            time_B = df_copy.loc[idx_suivant, 'BaseDateTime']\n",
    "            \n",
    "            # Calculer l'intervalle de temps en secondes\n",
    "            delta_temps = (time_B - time_A).total_seconds()\n",
    "            \n",
    "            # Interpolation à 5 minutes (300s)\n",
    "            if delta_temps >= 300:\n",
    "                fraction_5min = 300 / delta_temps\n",
    "                lat_5min = lat_A + fraction_5min * (lat_B - lat_A)\n",
    "                lon_5min = lon_A + fraction_5min * (lon_B - lon_A)\n",
    "                \n",
    "                df_copy.loc[idx_actuel, 'LAT_5'] = lat_5min\n",
    "                df_copy.loc[idx_actuel, 'LONG_5'] = lon_5min\n",
    "            \n",
    "            # Interpolation à 10 minutes (600s)\n",
    "            if delta_temps >= 600:\n",
    "                fraction_10min = 600 / delta_temps\n",
    "                lat_10min = lat_A + fraction_10min * (lat_B - lat_A)\n",
    "                lon_10min = lon_A + fraction_10min * (lon_B - lon_A)\n",
    "                \n",
    "                df_copy.loc[idx_actuel, 'LAT_10'] = lat_10min\n",
    "                df_copy.loc[idx_actuel, 'LONG_10'] = lon_10min\n",
    "            \n",
    "            # Interpolation à 15 minutes (900s)\n",
    "            if delta_temps >= 900:\n",
    "                fraction_15min = 900 / delta_temps\n",
    "                lat_15min = lat_A + fraction_15min * (lat_B - lat_A)\n",
    "                lon_15min = lon_A + fraction_15min * (lon_B - lon_A)\n",
    "                \n",
    "                df_copy.loc[idx_actuel, 'LAT_15'] = lat_15min\n",
    "                df_copy.loc[idx_actuel, 'LONG_15'] = lon_15min\n",
    "    \n",
    "    print(\"Interpolation terminée !\")\n",
    "    return df_copy\n",
    "\n",
    "# Application de l'interpolation sur les trois ensembles\n",
    "print(\"=== INTERPOLATION DE L'ENSEMBLE D'APPRENTISSAGE ===\")\n",
    "df_train_interpolated = interpoler_positions_dataframe(df_train)\n",
    "\n",
    "print(\"\\n=== INTERPOLATION DE L'ENSEMBLE DE TEST ===\")\n",
    "df_test_interpolated = interpoler_positions_dataframe(df_test)\n",
    "\n",
    "print(\"\\n=== INTERPOLATION DE L'ENSEMBLE DE VALIDATION ===\")\n",
    "df_val_interpolated = interpoler_positions_dataframe(df_val)"
   ]
  },
  {
   "cell_type": "code",
   "execution_count": null,
   "id": "ad118743",
   "metadata": {},
   "outputs": [],
   "source": [
    "def verifier_interpolation(df, nom_ensemble):\n",
    "    \"\"\"\n",
    "    Fonction pour vérifier les résultats de l'interpolation\n",
    "    \"\"\"\n",
    "    print(f\"\\n=== VÉRIFICATION - {nom_ensemble} ===\")\n",
    "    \n",
    "    # Compter les valeurs non nulles pour chaque colonne d'interpolation\n",
    "    interpolations_5min = df['LAT_5'].notna().sum()\n",
    "    interpolations_10min = df['LAT_10'].notna().sum()\n",
    "    interpolations_15min = df['LAT_15'].notna().sum()\n",
    "    \n",
    "    print(f\"Interpolations à 5 minutes : {interpolations_5min}\")\n",
    "    print(f\"Interpolations à 10 minutes : {interpolations_10min}\")\n",
    "    print(f\"Interpolations à 15 minutes : {interpolations_15min}\")\n",
    "    \n",
    "    # Afficher quelques exemples d'interpolation\n",
    "    exemples = df[df['LAT_5'].notna()].head(3)\n",
    "    if len(exemples) > 0:\n",
    "        print(f\"\\nExemples d'interpolation à 5 minutes :\")\n",
    "        for idx, row in exemples.iterrows():\n",
    "            print(f\"MMSI {row['MMSI']} : Position originale ({row['LAT']:.5f}, {row['LON']:.5f}) -> Position à +5min ({row['LAT_5']:.5f}, {row['LONG_5']:.5f})\")\n",
    "\n",
    "# Vérification des trois ensembles\n",
    "verifier_interpolation(df_train_interpolated, \"TRAIN\")\n",
    "verifier_interpolation(df_test_interpolated, \"TEST\")\n",
    "verifier_interpolation(df_val_interpolated, \"VALIDATION\")\n",
    "\n",
    "print(\"\\n=== INTERPOLATION TERMINÉE POUR TOUS LES ENSEMBLES ===\")\n",
    "print(\"Les DataFrames df_train_interpolated, df_test_interpolated et df_val_interpolated\")\n",
    "print(\"contiennent maintenant les positions interpolées dans les colonnes LAT_5, LONG_5, LAT_10, LONG_10, LAT_15, LONG_15\")"
   ]
  },
  {
   "cell_type": "code",
   "execution_count": null,
   "id": "12511e6f",
   "metadata": {},
   "outputs": [],
   "source": [
    "seuil_SOG = 0.5  # à ajuster selon ton dataset\n",
    "df_filtre = df[df['SOG'] > seuil_SOG].reset_index(drop=True)\n",
    "len(df_filtre)"
   ]
  }
 ],
 "metadata": {
  "kernelspec": {
   "display_name": "Python 3",
   "language": "python",
   "name": "python3"
  },
  "language_info": {
   "codemirror_mode": {
    "name": "ipython",
    "version": 3
   },
   "file_extension": ".py",
   "mimetype": "text/x-python",
   "name": "python",
   "nbconvert_exporter": "python",
   "pygments_lexer": "ipython3",
   "version": "3.11.0"
  }
 },
 "nbformat": 4,
 "nbformat_minor": 5
}
